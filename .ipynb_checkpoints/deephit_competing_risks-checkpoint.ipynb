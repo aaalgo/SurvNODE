{
 "cells": [
  {
   "cell_type": "markdown",
   "metadata": {},
   "source": [
    "# DeepHit with Competing Risks\n",
    "\n",
    "In this notebook we give an example of how to apply the [DeepHit](http://medianetlab.ee.ucla.edu/papers/AAAI_2018_DeepHit) method for competing risks.\n",
    "\n",
    "The `pycox` package has (so far) limited support for competing-risk data, so the evaluation procedure at the end is somewhat limited."
   ]
  },
  {
   "cell_type": "code",
   "execution_count": 1,
   "metadata": {},
   "outputs": [],
   "source": [
    "import numpy as np\n",
    "import pandas as pd\n",
    "import matplotlib.pyplot as plt\n",
    "import torch\n",
    "import torchtuples as tt\n",
    "\n",
    "from pycox.preprocessing.label_transforms import LabTransDiscreteTime\n",
    "from pycox.models import DeepHit\n",
    "from pycox.evaluation import EvalSurv"
   ]
  },
  {
   "cell_type": "code",
   "execution_count": 2,
   "metadata": {},
   "outputs": [],
   "source": [
    "np.random.seed(1234)\n",
    "_ = torch.manual_seed(1234)"
   ]
  },
  {
   "cell_type": "markdown",
   "metadata": {},
   "source": [
    "## Dataset from the DeepHit repo\n",
    "\n",
    "We download a competing risk data set from the DeepHit authors repo.\n",
    "The dataset is from a simulation study with two event types and censored observations.\n",
    "\n",
    "We split in train, val and test."
   ]
  },
  {
   "cell_type": "code",
   "execution_count": 3,
   "metadata": {},
   "outputs": [],
   "source": [
    "url = 'https://raw.githubusercontent.com/chl8856/DeepHit/master/sample%20data/SYNTHETIC/synthetic_comprisk.csv'\n",
    "df_train = pd.read_csv(url)\n",
    "df_train = df_train[df_train.time!=0]\n",
    "df_test = df_train.sample(frac=0.2)\n",
    "df_train = df_train.drop(df_test.index)\n",
    "df_val = df_train.sample(frac=0.2)\n",
    "df_train = df_train.drop(df_val.index)"
   ]
  },
  {
   "cell_type": "code",
   "execution_count": 4,
   "metadata": {},
   "outputs": [
    {
     "data": {
      "text/html": [
       "<div>\n",
       "<style scoped>\n",
       "    .dataframe tbody tr th:only-of-type {\n",
       "        vertical-align: middle;\n",
       "    }\n",
       "\n",
       "    .dataframe tbody tr th {\n",
       "        vertical-align: top;\n",
       "    }\n",
       "\n",
       "    .dataframe thead th {\n",
       "        text-align: right;\n",
       "    }\n",
       "</style>\n",
       "<table border=\"1\" class=\"dataframe\">\n",
       "  <thead>\n",
       "    <tr style=\"text-align: right;\">\n",
       "      <th></th>\n",
       "      <th>time</th>\n",
       "      <th>label</th>\n",
       "      <th>true_time</th>\n",
       "      <th>true_label</th>\n",
       "      <th>feature1</th>\n",
       "      <th>feature2</th>\n",
       "      <th>feature3</th>\n",
       "      <th>feature4</th>\n",
       "      <th>feature5</th>\n",
       "      <th>feature6</th>\n",
       "      <th>feature7</th>\n",
       "      <th>feature8</th>\n",
       "      <th>feature9</th>\n",
       "      <th>feature10</th>\n",
       "      <th>feature11</th>\n",
       "      <th>feature12</th>\n",
       "    </tr>\n",
       "  </thead>\n",
       "  <tbody>\n",
       "    <tr>\n",
       "      <th>1</th>\n",
       "      <td>1</td>\n",
       "      <td>0</td>\n",
       "      <td>1</td>\n",
       "      <td>1</td>\n",
       "      <td>0.015579</td>\n",
       "      <td>-0.84608</td>\n",
       "      <td>0.48753</td>\n",
       "      <td>0.65193</td>\n",
       "      <td>0.20099</td>\n",
       "      <td>-0.11238</td>\n",
       "      <td>-1.39630</td>\n",
       "      <td>-0.188740</td>\n",
       "      <td>-0.300010</td>\n",
       "      <td>-0.24032</td>\n",
       "      <td>-0.38533</td>\n",
       "      <td>-1.02450</td>\n",
       "    </tr>\n",
       "    <tr>\n",
       "      <th>2</th>\n",
       "      <td>34</td>\n",
       "      <td>2</td>\n",
       "      <td>34</td>\n",
       "      <td>2</td>\n",
       "      <td>0.446490</td>\n",
       "      <td>1.64100</td>\n",
       "      <td>-1.74500</td>\n",
       "      <td>0.31795</td>\n",
       "      <td>-1.14060</td>\n",
       "      <td>0.36560</td>\n",
       "      <td>0.28110</td>\n",
       "      <td>-0.582530</td>\n",
       "      <td>-1.690700</td>\n",
       "      <td>1.20220</td>\n",
       "      <td>-0.51920</td>\n",
       "      <td>1.78400</td>\n",
       "    </tr>\n",
       "    <tr>\n",
       "      <th>3</th>\n",
       "      <td>9</td>\n",
       "      <td>0</td>\n",
       "      <td>9</td>\n",
       "      <td>2</td>\n",
       "      <td>0.629460</td>\n",
       "      <td>-0.61575</td>\n",
       "      <td>-0.32345</td>\n",
       "      <td>-0.90020</td>\n",
       "      <td>0.45360</td>\n",
       "      <td>-0.61992</td>\n",
       "      <td>2.16240</td>\n",
       "      <td>0.198750</td>\n",
       "      <td>-1.119600</td>\n",
       "      <td>-2.73210</td>\n",
       "      <td>-0.25673</td>\n",
       "      <td>-0.81836</td>\n",
       "    </tr>\n",
       "    <tr>\n",
       "      <th>4</th>\n",
       "      <td>2</td>\n",
       "      <td>0</td>\n",
       "      <td>10</td>\n",
       "      <td>2</td>\n",
       "      <td>1.249800</td>\n",
       "      <td>-0.18561</td>\n",
       "      <td>-0.18378</td>\n",
       "      <td>-0.98108</td>\n",
       "      <td>-0.01499</td>\n",
       "      <td>-0.14437</td>\n",
       "      <td>-1.25290</td>\n",
       "      <td>-0.584320</td>\n",
       "      <td>-0.090523</td>\n",
       "      <td>0.93692</td>\n",
       "      <td>1.07490</td>\n",
       "      <td>0.79117</td>\n",
       "    </tr>\n",
       "    <tr>\n",
       "      <th>5</th>\n",
       "      <td>11</td>\n",
       "      <td>2</td>\n",
       "      <td>11</td>\n",
       "      <td>2</td>\n",
       "      <td>0.487010</td>\n",
       "      <td>0.52086</td>\n",
       "      <td>1.99370</td>\n",
       "      <td>-0.94736</td>\n",
       "      <td>0.24371</td>\n",
       "      <td>1.06550</td>\n",
       "      <td>0.57686</td>\n",
       "      <td>0.019192</td>\n",
       "      <td>0.232120</td>\n",
       "      <td>0.48023</td>\n",
       "      <td>-0.73096</td>\n",
       "      <td>1.43960</td>\n",
       "    </tr>\n",
       "  </tbody>\n",
       "</table>\n",
       "</div>"
      ],
      "text/plain": [
       "   time  label  true_time  true_label  feature1  feature2  feature3  feature4  \\\n",
       "1     1      0          1           1  0.015579  -0.84608   0.48753   0.65193   \n",
       "2    34      2         34           2  0.446490   1.64100  -1.74500   0.31795   \n",
       "3     9      0          9           2  0.629460  -0.61575  -0.32345  -0.90020   \n",
       "4     2      0         10           2  1.249800  -0.18561  -0.18378  -0.98108   \n",
       "5    11      2         11           2  0.487010   0.52086   1.99370  -0.94736   \n",
       "\n",
       "   feature5  feature6  feature7  feature8  feature9  feature10  feature11  \\\n",
       "1   0.20099  -0.11238  -1.39630 -0.188740 -0.300010   -0.24032   -0.38533   \n",
       "2  -1.14060   0.36560   0.28110 -0.582530 -1.690700    1.20220   -0.51920   \n",
       "3   0.45360  -0.61992   2.16240  0.198750 -1.119600   -2.73210   -0.25673   \n",
       "4  -0.01499  -0.14437  -1.25290 -0.584320 -0.090523    0.93692    1.07490   \n",
       "5   0.24371   1.06550   0.57686  0.019192  0.232120    0.48023   -0.73096   \n",
       "\n",
       "   feature12  \n",
       "1   -1.02450  \n",
       "2    1.78400  \n",
       "3   -0.81836  \n",
       "4    0.79117  \n",
       "5    1.43960  "
      ]
     },
     "execution_count": 4,
     "metadata": {},
     "output_type": "execute_result"
    }
   ],
   "source": [
    "df_train.head()"
   ]
  },
  {
   "cell_type": "code",
   "execution_count": null,
   "metadata": {},
   "outputs": [],
   "source": [
    "\n"
   ]
  },
  {
   "cell_type": "markdown",
   "metadata": {},
   "source": [
    "## Feature transforms\n",
    "\n",
    "The covariates are standardized, so we don't need to any preprocessing."
   ]
  },
  {
   "cell_type": "code",
   "execution_count": 5,
   "metadata": {},
   "outputs": [],
   "source": [
    "get_x = lambda df: (df\n",
    "                    .drop(columns=['time', 'label', 'true_time', 'true_label'])\n",
    "                    .values.astype('float32'))"
   ]
  },
  {
   "cell_type": "code",
   "execution_count": 6,
   "metadata": {},
   "outputs": [],
   "source": [
    "x_train = get_x(df_train)\n",
    "x_val = get_x(df_val)\n",
    "x_test = get_x(df_test)"
   ]
  },
  {
   "cell_type": "markdown",
   "metadata": {},
   "source": [
    "### Label transforms\n",
    "\n",
    "Currently, the `pycox` package is mainly focused on single-event data, so there is no dedicated label transformer for competing risks. \n",
    "So, we make a simple one on our own, based on the the transform for the discrete methods `LabTransDiscreteSurv`.\n",
    "\n",
    "The class returns durations (as integers) and event types (as integers) where 0 is reserved for censored observations.\n",
    "\n",
    "We discretize the data to `num_durations` time points, which can be found with `labtrans.cuts`."
   ]
  },
  {
   "cell_type": "code",
   "execution_count": 7,
   "metadata": {},
   "outputs": [],
   "source": [
    "class LabTransform(LabTransDiscreteTime):\n",
    "    def transform(self, durations, events):\n",
    "        durations, is_event = super().transform(durations, events > 0)\n",
    "        events[is_event == 0] = 0\n",
    "        return durations, events.astype('int64')"
   ]
  },
  {
   "cell_type": "code",
   "execution_count": 8,
   "metadata": {},
   "outputs": [],
   "source": [
    "num_durations = 1000\n",
    "labtrans = LabTransform(num_durations)\n",
    "get_target = lambda df: (df['time'].values, df['label'].values)"
   ]
  },
  {
   "cell_type": "code",
   "execution_count": 9,
   "metadata": {},
   "outputs": [],
   "source": [
    "y_train = labtrans.fit_transform(*get_target(df_train))\n",
    "y_val = labtrans.transform(*get_target(df_val))\n",
    "durations_test, events_test = get_target(df_test)\n",
    "val = (x_val, y_val)"
   ]
  },
  {
   "cell_type": "code",
   "execution_count": 10,
   "metadata": {},
   "outputs": [
    {
     "data": {
      "text/plain": [
       "(array([  5, 177,  46,  10,  58, 192], dtype=int64),\n",
       " array([0, 2, 0, 0, 2, 0], dtype=int64))"
      ]
     },
     "execution_count": 10,
     "metadata": {},
     "output_type": "execute_result"
    }
   ],
   "source": [
    "y_train[0][:6], y_train[1][:6]"
   ]
  },
  {
   "cell_type": "code",
   "execution_count": 11,
   "metadata": {},
   "outputs": [
    {
     "data": {
      "text/plain": [
       "array([  0.        ,   0.19219219,   0.38438438,   0.57657658,\n",
       "         0.76876877,   0.96096096,   1.15315315,   1.34534535,\n",
       "         1.53753754,   1.72972973,   1.92192192,   2.11411411,\n",
       "         2.30630631,   2.4984985 ,   2.69069069,   2.88288288,\n",
       "         3.07507508,   3.26726727,   3.45945946,   3.65165165,\n",
       "         3.84384384,   4.03603604,   4.22822823,   4.42042042,\n",
       "         4.61261261,   4.8048048 ,   4.996997  ,   5.18918919,\n",
       "         5.38138138,   5.57357357,   5.76576577,   5.95795796,\n",
       "         6.15015015,   6.34234234,   6.53453453,   6.72672673,\n",
       "         6.91891892,   7.11111111,   7.3033033 ,   7.4954955 ,\n",
       "         7.68768769,   7.87987988,   8.07207207,   8.26426426,\n",
       "         8.45645646,   8.64864865,   8.84084084,   9.03303303,\n",
       "         9.22522523,   9.41741742,   9.60960961,   9.8018018 ,\n",
       "         9.99399399,  10.18618619,  10.37837838,  10.57057057,\n",
       "        10.76276276,  10.95495495,  11.14714715,  11.33933934,\n",
       "        11.53153153,  11.72372372,  11.91591592,  12.10810811,\n",
       "        12.3003003 ,  12.49249249,  12.68468468,  12.87687688,\n",
       "        13.06906907,  13.26126126,  13.45345345,  13.64564565,\n",
       "        13.83783784,  14.03003003,  14.22222222,  14.41441441,\n",
       "        14.60660661,  14.7987988 ,  14.99099099,  15.18318318,\n",
       "        15.37537538,  15.56756757,  15.75975976,  15.95195195,\n",
       "        16.14414414,  16.33633634,  16.52852853,  16.72072072,\n",
       "        16.91291291,  17.10510511,  17.2972973 ,  17.48948949,\n",
       "        17.68168168,  17.87387387,  18.06606607,  18.25825826,\n",
       "        18.45045045,  18.64264264,  18.83483483,  19.02702703,\n",
       "        19.21921922,  19.41141141,  19.6036036 ,  19.7957958 ,\n",
       "        19.98798799,  20.18018018,  20.37237237,  20.56456456,\n",
       "        20.75675676,  20.94894895,  21.14114114,  21.33333333,\n",
       "        21.52552553,  21.71771772,  21.90990991,  22.1021021 ,\n",
       "        22.29429429,  22.48648649,  22.67867868,  22.87087087,\n",
       "        23.06306306,  23.25525526,  23.44744745,  23.63963964,\n",
       "        23.83183183,  24.02402402,  24.21621622,  24.40840841,\n",
       "        24.6006006 ,  24.79279279,  24.98498498,  25.17717718,\n",
       "        25.36936937,  25.56156156,  25.75375375,  25.94594595,\n",
       "        26.13813814,  26.33033033,  26.52252252,  26.71471471,\n",
       "        26.90690691,  27.0990991 ,  27.29129129,  27.48348348,\n",
       "        27.67567568,  27.86786787,  28.06006006,  28.25225225,\n",
       "        28.44444444,  28.63663664,  28.82882883,  29.02102102,\n",
       "        29.21321321,  29.40540541,  29.5975976 ,  29.78978979,\n",
       "        29.98198198,  30.17417417,  30.36636637,  30.55855856,\n",
       "        30.75075075,  30.94294294,  31.13513514,  31.32732733,\n",
       "        31.51951952,  31.71171171,  31.9039039 ,  32.0960961 ,\n",
       "        32.28828829,  32.48048048,  32.67267267,  32.86486486,\n",
       "        33.05705706,  33.24924925,  33.44144144,  33.63363363,\n",
       "        33.82582583,  34.01801802,  34.21021021,  34.4024024 ,\n",
       "        34.59459459,  34.78678679,  34.97897898,  35.17117117,\n",
       "        35.36336336,  35.55555556,  35.74774775,  35.93993994,\n",
       "        36.13213213,  36.32432432,  36.51651652,  36.70870871,\n",
       "        36.9009009 ,  37.09309309,  37.28528529,  37.47747748,\n",
       "        37.66966967,  37.86186186,  38.05405405,  38.24624625,\n",
       "        38.43843844,  38.63063063,  38.82282282,  39.01501502,\n",
       "        39.20720721,  39.3993994 ,  39.59159159,  39.78378378,\n",
       "        39.97597598,  40.16816817,  40.36036036,  40.55255255,\n",
       "        40.74474474,  40.93693694,  41.12912913,  41.32132132,\n",
       "        41.51351351,  41.70570571,  41.8978979 ,  42.09009009,\n",
       "        42.28228228,  42.47447447,  42.66666667,  42.85885886,\n",
       "        43.05105105,  43.24324324,  43.43543544,  43.62762763,\n",
       "        43.81981982,  44.01201201,  44.2042042 ,  44.3963964 ,\n",
       "        44.58858859,  44.78078078,  44.97297297,  45.16516517,\n",
       "        45.35735736,  45.54954955,  45.74174174,  45.93393393,\n",
       "        46.12612613,  46.31831832,  46.51051051,  46.7027027 ,\n",
       "        46.89489489,  47.08708709,  47.27927928,  47.47147147,\n",
       "        47.66366366,  47.85585586,  48.04804805,  48.24024024,\n",
       "        48.43243243,  48.62462462,  48.81681682,  49.00900901,\n",
       "        49.2012012 ,  49.39339339,  49.58558559,  49.77777778,\n",
       "        49.96996997,  50.16216216,  50.35435435,  50.54654655,\n",
       "        50.73873874,  50.93093093,  51.12312312,  51.31531532,\n",
       "        51.50750751,  51.6996997 ,  51.89189189,  52.08408408,\n",
       "        52.27627628,  52.46846847,  52.66066066,  52.85285285,\n",
       "        53.04504505,  53.23723724,  53.42942943,  53.62162162,\n",
       "        53.81381381,  54.00600601,  54.1981982 ,  54.39039039,\n",
       "        54.58258258,  54.77477477,  54.96696697,  55.15915916,\n",
       "        55.35135135,  55.54354354,  55.73573574,  55.92792793,\n",
       "        56.12012012,  56.31231231,  56.5045045 ,  56.6966967 ,\n",
       "        56.88888889,  57.08108108,  57.27327327,  57.46546547,\n",
       "        57.65765766,  57.84984985,  58.04204204,  58.23423423,\n",
       "        58.42642643,  58.61861862,  58.81081081,  59.003003  ,\n",
       "        59.1951952 ,  59.38738739,  59.57957958,  59.77177177,\n",
       "        59.96396396,  60.15615616,  60.34834835,  60.54054054,\n",
       "        60.73273273,  60.92492492,  61.11711712,  61.30930931,\n",
       "        61.5015015 ,  61.69369369,  61.88588589,  62.07807808,\n",
       "        62.27027027,  62.46246246,  62.65465465,  62.84684685,\n",
       "        63.03903904,  63.23123123,  63.42342342,  63.61561562,\n",
       "        63.80780781,  64.        ,  64.19219219,  64.38438438,\n",
       "        64.57657658,  64.76876877,  64.96096096,  65.15315315,\n",
       "        65.34534535,  65.53753754,  65.72972973,  65.92192192,\n",
       "        66.11411411,  66.30630631,  66.4984985 ,  66.69069069,\n",
       "        66.88288288,  67.07507508,  67.26726727,  67.45945946,\n",
       "        67.65165165,  67.84384384,  68.03603604,  68.22822823,\n",
       "        68.42042042,  68.61261261,  68.8048048 ,  68.996997  ,\n",
       "        69.18918919,  69.38138138,  69.57357357,  69.76576577,\n",
       "        69.95795796,  70.15015015,  70.34234234,  70.53453453,\n",
       "        70.72672673,  70.91891892,  71.11111111,  71.3033033 ,\n",
       "        71.4954955 ,  71.68768769,  71.87987988,  72.07207207,\n",
       "        72.26426426,  72.45645646,  72.64864865,  72.84084084,\n",
       "        73.03303303,  73.22522523,  73.41741742,  73.60960961,\n",
       "        73.8018018 ,  73.99399399,  74.18618619,  74.37837838,\n",
       "        74.57057057,  74.76276276,  74.95495495,  75.14714715,\n",
       "        75.33933934,  75.53153153,  75.72372372,  75.91591592,\n",
       "        76.10810811,  76.3003003 ,  76.49249249,  76.68468468,\n",
       "        76.87687688,  77.06906907,  77.26126126,  77.45345345,\n",
       "        77.64564565,  77.83783784,  78.03003003,  78.22222222,\n",
       "        78.41441441,  78.60660661,  78.7987988 ,  78.99099099,\n",
       "        79.18318318,  79.37537538,  79.56756757,  79.75975976,\n",
       "        79.95195195,  80.14414414,  80.33633634,  80.52852853,\n",
       "        80.72072072,  80.91291291,  81.10510511,  81.2972973 ,\n",
       "        81.48948949,  81.68168168,  81.87387387,  82.06606607,\n",
       "        82.25825826,  82.45045045,  82.64264264,  82.83483483,\n",
       "        83.02702703,  83.21921922,  83.41141141,  83.6036036 ,\n",
       "        83.7957958 ,  83.98798799,  84.18018018,  84.37237237,\n",
       "        84.56456456,  84.75675676,  84.94894895,  85.14114114,\n",
       "        85.33333333,  85.52552553,  85.71771772,  85.90990991,\n",
       "        86.1021021 ,  86.29429429,  86.48648649,  86.67867868,\n",
       "        86.87087087,  87.06306306,  87.25525526,  87.44744745,\n",
       "        87.63963964,  87.83183183,  88.02402402,  88.21621622,\n",
       "        88.40840841,  88.6006006 ,  88.79279279,  88.98498498,\n",
       "        89.17717718,  89.36936937,  89.56156156,  89.75375375,\n",
       "        89.94594595,  90.13813814,  90.33033033,  90.52252252,\n",
       "        90.71471471,  90.90690691,  91.0990991 ,  91.29129129,\n",
       "        91.48348348,  91.67567568,  91.86786787,  92.06006006,\n",
       "        92.25225225,  92.44444444,  92.63663664,  92.82882883,\n",
       "        93.02102102,  93.21321321,  93.40540541,  93.5975976 ,\n",
       "        93.78978979,  93.98198198,  94.17417417,  94.36636637,\n",
       "        94.55855856,  94.75075075,  94.94294294,  95.13513514,\n",
       "        95.32732733,  95.51951952,  95.71171171,  95.9039039 ,\n",
       "        96.0960961 ,  96.28828829,  96.48048048,  96.67267267,\n",
       "        96.86486486,  97.05705706,  97.24924925,  97.44144144,\n",
       "        97.63363363,  97.82582583,  98.01801802,  98.21021021,\n",
       "        98.4024024 ,  98.59459459,  98.78678679,  98.97897898,\n",
       "        99.17117117,  99.36336336,  99.55555556,  99.74774775,\n",
       "        99.93993994, 100.13213213, 100.32432432, 100.51651652,\n",
       "       100.70870871, 100.9009009 , 101.09309309, 101.28528529,\n",
       "       101.47747748, 101.66966967, 101.86186186, 102.05405405,\n",
       "       102.24624625, 102.43843844, 102.63063063, 102.82282282,\n",
       "       103.01501502, 103.20720721, 103.3993994 , 103.59159159,\n",
       "       103.78378378, 103.97597598, 104.16816817, 104.36036036,\n",
       "       104.55255255, 104.74474474, 104.93693694, 105.12912913,\n",
       "       105.32132132, 105.51351351, 105.70570571, 105.8978979 ,\n",
       "       106.09009009, 106.28228228, 106.47447447, 106.66666667,\n",
       "       106.85885886, 107.05105105, 107.24324324, 107.43543544,\n",
       "       107.62762763, 107.81981982, 108.01201201, 108.2042042 ,\n",
       "       108.3963964 , 108.58858859, 108.78078078, 108.97297297,\n",
       "       109.16516517, 109.35735736, 109.54954955, 109.74174174,\n",
       "       109.93393393, 110.12612613, 110.31831832, 110.51051051,\n",
       "       110.7027027 , 110.89489489, 111.08708709, 111.27927928,\n",
       "       111.47147147, 111.66366366, 111.85585586, 112.04804805,\n",
       "       112.24024024, 112.43243243, 112.62462462, 112.81681682,\n",
       "       113.00900901, 113.2012012 , 113.39339339, 113.58558559,\n",
       "       113.77777778, 113.96996997, 114.16216216, 114.35435435,\n",
       "       114.54654655, 114.73873874, 114.93093093, 115.12312312,\n",
       "       115.31531532, 115.50750751, 115.6996997 , 115.89189189,\n",
       "       116.08408408, 116.27627628, 116.46846847, 116.66066066,\n",
       "       116.85285285, 117.04504505, 117.23723724, 117.42942943,\n",
       "       117.62162162, 117.81381381, 118.00600601, 118.1981982 ,\n",
       "       118.39039039, 118.58258258, 118.77477477, 118.96696697,\n",
       "       119.15915916, 119.35135135, 119.54354354, 119.73573574,\n",
       "       119.92792793, 120.12012012, 120.31231231, 120.5045045 ,\n",
       "       120.6966967 , 120.88888889, 121.08108108, 121.27327327,\n",
       "       121.46546547, 121.65765766, 121.84984985, 122.04204204,\n",
       "       122.23423423, 122.42642643, 122.61861862, 122.81081081,\n",
       "       123.003003  , 123.1951952 , 123.38738739, 123.57957958,\n",
       "       123.77177177, 123.96396396, 124.15615616, 124.34834835,\n",
       "       124.54054054, 124.73273273, 124.92492492, 125.11711712,\n",
       "       125.30930931, 125.5015015 , 125.69369369, 125.88588589,\n",
       "       126.07807808, 126.27027027, 126.46246246, 126.65465465,\n",
       "       126.84684685, 127.03903904, 127.23123123, 127.42342342,\n",
       "       127.61561562, 127.80780781, 128.        , 128.19219219,\n",
       "       128.38438438, 128.57657658, 128.76876877, 128.96096096,\n",
       "       129.15315315, 129.34534535, 129.53753754, 129.72972973,\n",
       "       129.92192192, 130.11411411, 130.30630631, 130.4984985 ,\n",
       "       130.69069069, 130.88288288, 131.07507508, 131.26726727,\n",
       "       131.45945946, 131.65165165, 131.84384384, 132.03603604,\n",
       "       132.22822823, 132.42042042, 132.61261261, 132.8048048 ,\n",
       "       132.996997  , 133.18918919, 133.38138138, 133.57357357,\n",
       "       133.76576577, 133.95795796, 134.15015015, 134.34234234,\n",
       "       134.53453453, 134.72672673, 134.91891892, 135.11111111,\n",
       "       135.3033033 , 135.4954955 , 135.68768769, 135.87987988,\n",
       "       136.07207207, 136.26426426, 136.45645646, 136.64864865,\n",
       "       136.84084084, 137.03303303, 137.22522523, 137.41741742,\n",
       "       137.60960961, 137.8018018 , 137.99399399, 138.18618619,\n",
       "       138.37837838, 138.57057057, 138.76276276, 138.95495495,\n",
       "       139.14714715, 139.33933934, 139.53153153, 139.72372372,\n",
       "       139.91591592, 140.10810811, 140.3003003 , 140.49249249,\n",
       "       140.68468468, 140.87687688, 141.06906907, 141.26126126,\n",
       "       141.45345345, 141.64564565, 141.83783784, 142.03003003,\n",
       "       142.22222222, 142.41441441, 142.60660661, 142.7987988 ,\n",
       "       142.99099099, 143.18318318, 143.37537538, 143.56756757,\n",
       "       143.75975976, 143.95195195, 144.14414414, 144.33633634,\n",
       "       144.52852853, 144.72072072, 144.91291291, 145.10510511,\n",
       "       145.2972973 , 145.48948949, 145.68168168, 145.87387387,\n",
       "       146.06606607, 146.25825826, 146.45045045, 146.64264264,\n",
       "       146.83483483, 147.02702703, 147.21921922, 147.41141141,\n",
       "       147.6036036 , 147.7957958 , 147.98798799, 148.18018018,\n",
       "       148.37237237, 148.56456456, 148.75675676, 148.94894895,\n",
       "       149.14114114, 149.33333333, 149.52552553, 149.71771772,\n",
       "       149.90990991, 150.1021021 , 150.29429429, 150.48648649,\n",
       "       150.67867868, 150.87087087, 151.06306306, 151.25525526,\n",
       "       151.44744745, 151.63963964, 151.83183183, 152.02402402,\n",
       "       152.21621622, 152.40840841, 152.6006006 , 152.79279279,\n",
       "       152.98498498, 153.17717718, 153.36936937, 153.56156156,\n",
       "       153.75375375, 153.94594595, 154.13813814, 154.33033033,\n",
       "       154.52252252, 154.71471471, 154.90690691, 155.0990991 ,\n",
       "       155.29129129, 155.48348348, 155.67567568, 155.86786787,\n",
       "       156.06006006, 156.25225225, 156.44444444, 156.63663664,\n",
       "       156.82882883, 157.02102102, 157.21321321, 157.40540541,\n",
       "       157.5975976 , 157.78978979, 157.98198198, 158.17417417,\n",
       "       158.36636637, 158.55855856, 158.75075075, 158.94294294,\n",
       "       159.13513514, 159.32732733, 159.51951952, 159.71171171,\n",
       "       159.9039039 , 160.0960961 , 160.28828829, 160.48048048,\n",
       "       160.67267267, 160.86486486, 161.05705706, 161.24924925,\n",
       "       161.44144144, 161.63363363, 161.82582583, 162.01801802,\n",
       "       162.21021021, 162.4024024 , 162.59459459, 162.78678679,\n",
       "       162.97897898, 163.17117117, 163.36336336, 163.55555556,\n",
       "       163.74774775, 163.93993994, 164.13213213, 164.32432432,\n",
       "       164.51651652, 164.70870871, 164.9009009 , 165.09309309,\n",
       "       165.28528529, 165.47747748, 165.66966967, 165.86186186,\n",
       "       166.05405405, 166.24624625, 166.43843844, 166.63063063,\n",
       "       166.82282282, 167.01501502, 167.20720721, 167.3993994 ,\n",
       "       167.59159159, 167.78378378, 167.97597598, 168.16816817,\n",
       "       168.36036036, 168.55255255, 168.74474474, 168.93693694,\n",
       "       169.12912913, 169.32132132, 169.51351351, 169.70570571,\n",
       "       169.8978979 , 170.09009009, 170.28228228, 170.47447447,\n",
       "       170.66666667, 170.85885886, 171.05105105, 171.24324324,\n",
       "       171.43543544, 171.62762763, 171.81981982, 172.01201201,\n",
       "       172.2042042 , 172.3963964 , 172.58858859, 172.78078078,\n",
       "       172.97297297, 173.16516517, 173.35735736, 173.54954955,\n",
       "       173.74174174, 173.93393393, 174.12612613, 174.31831832,\n",
       "       174.51051051, 174.7027027 , 174.89489489, 175.08708709,\n",
       "       175.27927928, 175.47147147, 175.66366366, 175.85585586,\n",
       "       176.04804805, 176.24024024, 176.43243243, 176.62462462,\n",
       "       176.81681682, 177.00900901, 177.2012012 , 177.39339339,\n",
       "       177.58558559, 177.77777778, 177.96996997, 178.16216216,\n",
       "       178.35435435, 178.54654655, 178.73873874, 178.93093093,\n",
       "       179.12312312, 179.31531532, 179.50750751, 179.6996997 ,\n",
       "       179.89189189, 180.08408408, 180.27627628, 180.46846847,\n",
       "       180.66066066, 180.85285285, 181.04504505, 181.23723724,\n",
       "       181.42942943, 181.62162162, 181.81381381, 182.00600601,\n",
       "       182.1981982 , 182.39039039, 182.58258258, 182.77477477,\n",
       "       182.96696697, 183.15915916, 183.35135135, 183.54354354,\n",
       "       183.73573574, 183.92792793, 184.12012012, 184.31231231,\n",
       "       184.5045045 , 184.6966967 , 184.88888889, 185.08108108,\n",
       "       185.27327327, 185.46546547, 185.65765766, 185.84984985,\n",
       "       186.04204204, 186.23423423, 186.42642643, 186.61861862,\n",
       "       186.81081081, 187.003003  , 187.1951952 , 187.38738739,\n",
       "       187.57957958, 187.77177177, 187.96396396, 188.15615616,\n",
       "       188.34834835, 188.54054054, 188.73273273, 188.92492492,\n",
       "       189.11711712, 189.30930931, 189.5015015 , 189.69369369,\n",
       "       189.88588589, 190.07807808, 190.27027027, 190.46246246,\n",
       "       190.65465465, 190.84684685, 191.03903904, 191.23123123,\n",
       "       191.42342342, 191.61561562, 191.80780781, 192.        ])"
      ]
     },
     "execution_count": 11,
     "metadata": {},
     "output_type": "execute_result"
    }
   ],
   "source": [
    "labtrans.cuts"
   ]
  },
  {
   "cell_type": "markdown",
   "metadata": {},
   "source": [
    "## Network architecture\n",
    "\n",
    "Under, we describe two networks that can be for competing risks:\n",
    "\n",
    "The first, `SimpleMLP`, is a regular MLP which outputs a `[batch_size x num_risks x num_durations]`, e.g., `[64, 2, 10]` tensor.\n",
    "\n",
    "The other, `CauseSpecificNet` is similar to the cause-specific network described in the [DeepHit paper](http://medianetlab.ee.ucla.edu/papers/AAAI_2018_DeepHit).\n",
    "It has the same output shape as the `SimpleMLP`, but is a little more complex to make."
   ]
  },
  {
   "cell_type": "code",
   "execution_count": 12,
   "metadata": {},
   "outputs": [],
   "source": [
    "class SimpleMLP(torch.nn.Module):\n",
    "    \"\"\"Simple network structure for competing risks.\n",
    "    \"\"\"\n",
    "    def __init__(self, in_features, num_nodes, num_risks, out_features, batch_norm=True,\n",
    "                 dropout=None):\n",
    "        super().__init__()\n",
    "        self.num_risks = num_risks\n",
    "        self.mlp = tt.practical.MLPVanilla(\n",
    "            in_features, num_nodes, num_risks * out_features,\n",
    "            batch_norm, dropout,\n",
    "        )\n",
    "        \n",
    "    def forward(self, input):\n",
    "        out = self.mlp(input)\n",
    "        return out.view(out.size(0), self.num_risks, -1)"
   ]
  },
  {
   "cell_type": "code",
   "execution_count": 13,
   "metadata": {},
   "outputs": [],
   "source": [
    "class CauseSpecificNet(torch.nn.Module):\n",
    "    \"\"\"Network structure similar to the DeepHit paper, but without the residual\n",
    "    connections (for simplicity).\n",
    "    \"\"\"\n",
    "    def __init__(self, in_features, num_nodes_shared, num_nodes_indiv, num_risks,\n",
    "                 out_features, batch_norm=True, dropout=None):\n",
    "        super().__init__()\n",
    "        self.shared_net = tt.practical.MLPVanilla(\n",
    "            in_features, num_nodes_shared[:-1], num_nodes_shared[-1],\n",
    "            batch_norm, dropout,\n",
    "        )\n",
    "        self.risk_nets = torch.nn.ModuleList()\n",
    "        for _ in range(num_risks):\n",
    "            net = tt.practical.MLPVanilla(\n",
    "                num_nodes_shared[-1], num_nodes_indiv, out_features,\n",
    "                batch_norm, dropout,\n",
    "            )\n",
    "            self.risk_nets.append(net)\n",
    "\n",
    "    def forward(self, input):\n",
    "        out = self.shared_net(input)\n",
    "        out = [net(out) for net in self.risk_nets]\n",
    "        out = torch.stack(out, dim=1)\n",
    "        return out"
   ]
  },
  {
   "cell_type": "code",
   "execution_count": 27,
   "metadata": {},
   "outputs": [],
   "source": [
    "in_features = x_train.shape[1]\n",
    "num_nodes_shared = [128, 128, 64, 64]\n",
    "num_nodes_indiv = [64, 64]\n",
    "num_risks = y_train[1].max()\n",
    "out_features = len(labtrans.cuts)\n",
    "batch_norm = True\n",
    "dropout = 0.1\n",
    "\n",
    "# net = SimpleMLP(in_features, num_nodes_shared, num_risks, out_features)\n",
    "net = CauseSpecificNet(in_features, num_nodes_shared, num_nodes_indiv, num_risks,\n",
    "                       out_features, batch_norm, dropout)"
   ]
  },
  {
   "cell_type": "markdown",
   "metadata": {},
   "source": [
    "## Training\n",
    "\n",
    "We fit the net with the [AdamWR](https://arxiv.org/abs/1711.05101) cyclic optimizer with initial learning rate of 0.01, decoupled_weight_decay of 0.01, initial cycle length of 1 epoch, and multiply the learning rate with 0.8 and cycle length with 2 at each new cycle.\n",
    "\n",
    "The hyperparameters in the DeepHit loss-function, `alpha` and `sigma`, are set to 0.2 and 0.1, respectively. Note that `alpha` here controls the convex combination of the two losses,\n",
    "$$\\text{loss} = \\alpha \\text{loss}_\\text{NLL} + (1 - \\alpha) \\text{loss}_\\text{rank},$$\n",
    "and therefore has a different interpretation than in the [DeepHit paper](http://medianetlab.ee.ucla.edu/papers/AAAI_2018_DeepHit)."
   ]
  },
  {
   "cell_type": "code",
   "execution_count": 72,
   "metadata": {},
   "outputs": [],
   "source": [
    "optimizer = tt.optim.AdamWR(lr=0.001, decoupled_weight_decay=0.01,\n",
    "                            cycle_eta_multiplier=0.8)\n",
    "model = DeepHit(net, optimizer, alpha=0.2, sigma=0.01,\n",
    "                duration_index=labtrans.cuts)"
   ]
  },
  {
   "cell_type": "code",
   "execution_count": 73,
   "metadata": {},
   "outputs": [],
   "source": [
    "epochs = 512\n",
    "batch_size = 256\n",
    "callbacks = [tt.callbacks.EarlyStoppingCycle()]\n",
    "verbose = False # set to True if you want printout"
   ]
  },
  {
   "cell_type": "code",
   "execution_count": null,
   "metadata": {},
   "outputs": [],
   "source": [
    "%%time\n",
    "log = model.fit(x_train, y_train, batch_size, epochs, callbacks, verbose, val_data=val)"
   ]
  },
  {
   "cell_type": "code",
   "execution_count": null,
   "metadata": {},
   "outputs": [],
   "source": [
    "_ = log.plot()"
   ]
  },
  {
   "cell_type": "markdown",
   "metadata": {},
   "source": [
    "## Evaluation\n",
    "\n",
    "There is, currently, limited support for competing risks in `pycox`, so the evaluation here is just illustrative and should not be considered *best practice*.\n",
    "\n",
    "The survival function obtained with `predict_surv_df` is the probability of surviving any of the events, and does, therefore, not distinguish between the event types.\n",
    "This means that we evaluate this \"single-event case\" as before."
   ]
  },
  {
   "cell_type": "code",
   "execution_count": null,
   "metadata": {},
   "outputs": [],
   "source": [
    "surv = model.predict_surv_df(x_test)\n",
    "ev = EvalSurv(surv, durations_test, events_test != 0, censor_surv='km')"
   ]
  },
  {
   "cell_type": "code",
   "execution_count": null,
   "metadata": {},
   "outputs": [],
   "source": [
    "ev.concordance_td()"
   ]
  },
  {
   "cell_type": "code",
   "execution_count": null,
   "metadata": {},
   "outputs": [],
   "source": [
    "ev.integrated_brier_score(np.linspace(0, durations_test.max(), 100))"
   ]
  },
  {
   "cell_type": "markdown",
   "metadata": {},
   "source": [
    "## The cumulative incidence function\n",
    "\n",
    "The cumulative incidence function, or CIF, is commonly used in settings with competing risks.\n",
    "We can evaluate the case-specific concordance using these CIF's.\n",
    "\n",
    "We use `1 - cif` here because the CIF increases with with risk (while the survival function decreases with higher risk)."
   ]
  },
  {
   "cell_type": "code",
   "execution_count": null,
   "metadata": {},
   "outputs": [],
   "source": [
    "cif = model.predict_cif(x_test)\n",
    "cif1 = pd.DataFrame(cif[0], model.duration_index)\n",
    "cif2 = pd.DataFrame(cif[1], model.duration_index)"
   ]
  },
  {
   "cell_type": "code",
   "execution_count": null,
   "metadata": {},
   "outputs": [],
   "source": [
    "ev1 = EvalSurv(1-cif1, durations_test, events_test == 1, censor_surv='km')\n",
    "ev2 = EvalSurv(1-cif2, durations_test, events_test == 2, censor_surv='km')"
   ]
  },
  {
   "cell_type": "code",
   "execution_count": null,
   "metadata": {},
   "outputs": [],
   "source": [
    "ev1.concordance_td()"
   ]
  },
  {
   "cell_type": "code",
   "execution_count": null,
   "metadata": {},
   "outputs": [],
   "source": [
    "ev2.concordance_td()"
   ]
  },
  {
   "cell_type": "markdown",
   "metadata": {},
   "source": [
    "## Plot CIF\n",
    "\n",
    "Finally, we plot six random individuals and their cumulative incidence functions"
   ]
  },
  {
   "cell_type": "code",
   "execution_count": 26,
   "metadata": {},
   "outputs": [
    {
     "name": "stderr",
     "output_type": "stream",
     "text": [
      "c:\\users\\sebastian\\research\\survnode\\sandbox\\lib\\site-packages\\ipykernel_launcher.py:2: MatplotlibDeprecationWarning: Passing the sharex parameter of subplots() positionally is deprecated since Matplotlib 3.3; the parameter will become keyword-only two minor releases later.\n",
      "  \n"
     ]
    },
    {
     "data": {
      "image/png": "[encoded data removed]",
      "text/plain": [
       "<Figure size 720x360 with 6 Axes>"
      ]
     },
     "metadata": {
      "needs_background": "light"
     },
     "output_type": "display_data"
    }
   ],
   "source": [
    "sample = np.random.choice(len(durations_test), 6)\n",
    "fig, axs = plt.subplots(2, 3, True, True, figsize=(10, 5))\n",
    "for ax, idx in zip(axs.flat, sample):\n",
    "    pd.DataFrame(cif.transpose()[idx], index=labtrans.cuts).plot(ax=ax)\n",
    "    ax.set_ylabel('CIF')\n",
    "    ax.set_xlabel('Time')\n",
    "    ax.grid(linestyle='--')"
   ]
  },
  {
   "cell_type": "code",
   "execution_count": null,
   "metadata": {},
   "outputs": [],
   "source": [
    "def objective_func(config):\n",
    "    optimizer = tt.optim.AdamWR(lr=0.001, decoupled_weight_decay=0.01,\n",
    "                            cycle_eta_multiplier=0.8)\n",
    "    model = DeepHit(net, optimizer, alpha=0.2, sigma=0.01,\n",
    "                    duration_index=labtrans.cuts)\n",
    "    epochs = 512\n",
    "    batch_size = 256\n",
    "    callbacks = [tt.callbacks.EarlyStoppingCycle()]\n",
    "    verbose = False # set to True if you want printout\n",
    "    log = model.fit(x_train, y_train, batch_size, epochs, callbacks, verbose, val_data=val)\n",
    "    \n",
    "    surv = model.predict_surv_df(x_test)\n",
    "    ev = EvalSurv(surv, durations_test, events_test != 0, censor_surv='km')\n",
    "    \n",
    "    cif = model.predict_cif(x_test)\n",
    "    cif1 = pd.DataFrame(cif[0], model.duration_index)\n",
    "    cif2 = pd.DataFrame(cif[1], model.duration_index)\n",
    "    \n",
    "    ev1 = EvalSurv(1-cif1, durations_test, events_test == 1, censor_surv='km')\n",
    "    ev2 = EvalSurv(1-cif2, durations_test, events_test == 2, censor_surv='km')\n",
    "    print(ev2.concordance_td())\n",
    "    return ev1.concordance_td()"
   ]
  },
  {
   "cell_type": "code",
   "execution_count": null,
   "metadata": {},
   "outputs": [],
   "source": [
    "from hyperopt import hp\n",
    "args = {\n",
    "    \"lr\": hp.choice(\"lr\", [1e-4, 5e-4]),\n",
    "    \"weight_decay\": hp.choice(\"weight_decay\", [1e-3, 1e-4]),\n",
    "    \"num_latent\": hp.randint('num_latent', 20, 200),\n",
    "    \"encoder_neurons\": hp.randint('encoder_neurons', 100, 800),\n",
    "    \"num_encoder_layers\": hp.randint(\"num_encoder_layers\", 2, 5),\n",
    "    \"encoder_dropout\": 0.,\n",
    "    \"odefunc_neurons1\": hp.randint('odefunc_neurons1', 100, 1500),\n",
    "    \"num_odefunc_layers1\": hp.randint(\"num_odefunc_layers1\", 2, 5),\n",
    "#     \"odefunc_neurons2\": hp.randint('odefunc_neurons2', 100, 1500),\n",
    "#     \"num_odefunc_layers2\": 3,\n",
    "    \"batch_size\": 128,\n",
    "    \"multiplier\": 1.,\n",
    "    \"mu\": 1e-4,\n",
    "    \"softplus_beta\": hp.choice(\"softplus_beta\", [1., 0.1]),\n",
    "    \"scheduler_epoch\": 5,\n",
    "    \"scheduler_gamma\": 0.1,\n",
    "    \"patience\": 20\n",
    "}\n",
    "\n",
    "# define an objective function\n",
    "def objective(args):\n",
    "    print(args)\n",
    "    lossval, conc, ibs, ibnll = odesurv_manual_benchmark(df_train,df_test,args,\"metabrick_test\")\n",
    "    print(\"\\nResults: {}, {}, {}\".format(conc, ibs, ibnll))\n",
    "    with open(\"hp_sep_log.txt\", \"a\") as f:\n",
    "        f.write(str(args))\n",
    "        f.write(\"\\nResults: {}, {}, {}\".format(conc, ibs, ibnll))\n",
    "    return lossval\n",
    "\n",
    "# minimize the objective over the space\n",
    "from hyperopt import fmin, tpe, space_eval\n",
    "best = fmin(objective, args, algo=tpe.suggest, max_evals=100)"
   ]
  }
 ],
 "metadata": {
  "kernelspec": {
   "display_name": "Python 3",
   "language": "python",
   "name": "python3"
  },
  "language_info": {
   "codemirror_mode": {
    "name": "ipython",
    "version": 3
   },
   "file_extension": ".py",
   "mimetype": "text/x-python",
   "name": "python",
   "nbconvert_exporter": "python",
   "pygments_lexer": "ipython3",
   "version": "3.7.9"
  }
 },
 "nbformat": 4,
 "nbformat_minor": 4
}
