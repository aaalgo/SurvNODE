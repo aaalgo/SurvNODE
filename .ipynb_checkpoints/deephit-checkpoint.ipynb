{
 "cells": [
  {
   "cell_type": "markdown",
   "metadata": {},
   "source": [
    "# DeepHit for Single Event\n",
    "\n",
    "In this notebook we show an example of how we can fit a [DeepHit](http://medianetlab.ee.ucla.edu/papers/AAAI_2018_DeepHit) model when we only have *one* event type.\n",
    "\n",
    "If you are interested in **competing risks**, see [this notebook](https://nbviewer.jupyter.org/github/havakv/pycox/blob/master/examples/deephit_competing_risks.ipynb) instead.\n",
    "\n",
    "For a more verbose introduction to `pycox` see [this notebook](https://nbviewer.jupyter.org/github/havakv/pycox/blob/master/examples/01_introduction.ipynb)."
   ]
  },
  {
   "cell_type": "code",
   "execution_count": 32,
   "metadata": {},
   "outputs": [],
   "source": [
    "import numpy as np\n",
    "import matplotlib.pyplot as plt\n",
    "\n",
    "# For preprocessing\n",
    "from sklearn.preprocessing import StandardScaler\n",
    "from sklearn_pandas import DataFrameMapper \n",
    "\n",
    "import torch # For building the networks \n",
    "import torchtuples as tt # Some useful functions\n",
    "\n",
    "from pycox.datasets import metabric, support\n",
    "from pycox.models import DeepHitSingle\n",
    "from pycox.evaluation import EvalSurv"
   ]
  },
  {
   "cell_type": "code",
   "execution_count": 33,
   "metadata": {},
   "outputs": [],
   "source": [
    "## Uncomment to install `sklearn-pandas`\n",
    "# ! pip install sklearn-pandas"
   ]
  },
  {
   "cell_type": "code",
   "execution_count": 34,
   "metadata": {},
   "outputs": [],
   "source": [
    "np.random.seed(1234)\n",
    "_ = torch.manual_seed(123)"
   ]
  },
  {
   "cell_type": "markdown",
   "metadata": {},
   "source": [
    "## Dataset\n",
    "\n",
    "We load the METABRIC data set as a pandas DataFrame and split the data in in train, test and validation.\n",
    "\n",
    "The `duration` column gives the observed times and the `event` column contains indicators of whether the observation is an event (1) or a censored observation (0)."
   ]
  },
  {
   "cell_type": "code",
   "execution_count": 35,
   "metadata": {},
   "outputs": [],
   "source": [
    "df_train = support.read_df()\n",
    "df_test = df_train.sample(frac=0.2)\n",
    "df_train = df_train.drop(df_test.index)\n",
    "df_val = df_train.sample(frac=0.2)\n",
    "df_train = df_train.drop(df_val.index)"
   ]
  },
  {
   "cell_type": "code",
   "execution_count": 36,
   "metadata": {},
   "outputs": [
    {
     "data": {
      "text/html": [
       "<div>\n",
       "<style scoped>\n",
       "    .dataframe tbody tr th:only-of-type {\n",
       "        vertical-align: middle;\n",
       "    }\n",
       "\n",
       "    .dataframe tbody tr th {\n",
       "        vertical-align: top;\n",
       "    }\n",
       "\n",
       "    .dataframe thead th {\n",
       "        text-align: right;\n",
       "    }\n",
       "</style>\n",
       "<table border=\"1\" class=\"dataframe\">\n",
       "  <thead>\n",
       "    <tr style=\"text-align: right;\">\n",
       "      <th></th>\n",
       "      <th>x0</th>\n",
       "      <th>x1</th>\n",
       "      <th>x2</th>\n",
       "      <th>x3</th>\n",
       "      <th>x4</th>\n",
       "      <th>x5</th>\n",
       "      <th>x6</th>\n",
       "      <th>x7</th>\n",
       "      <th>x8</th>\n",
       "      <th>x9</th>\n",
       "      <th>x10</th>\n",
       "      <th>x11</th>\n",
       "      <th>x12</th>\n",
       "      <th>x13</th>\n",
       "      <th>duration</th>\n",
       "      <th>event</th>\n",
       "    </tr>\n",
       "  </thead>\n",
       "  <tbody>\n",
       "    <tr>\n",
       "      <th>0</th>\n",
       "      <td>82.709961</td>\n",
       "      <td>1.0</td>\n",
       "      <td>2.0</td>\n",
       "      <td>1.0</td>\n",
       "      <td>0.0</td>\n",
       "      <td>0.0</td>\n",
       "      <td>0.0</td>\n",
       "      <td>160.0</td>\n",
       "      <td>55.0</td>\n",
       "      <td>16.0</td>\n",
       "      <td>38.195309</td>\n",
       "      <td>142.0</td>\n",
       "      <td>19.000000</td>\n",
       "      <td>1.099854</td>\n",
       "      <td>30.0</td>\n",
       "      <td>1</td>\n",
       "    </tr>\n",
       "    <tr>\n",
       "      <th>3</th>\n",
       "      <td>53.075989</td>\n",
       "      <td>1.0</td>\n",
       "      <td>4.0</td>\n",
       "      <td>3.0</td>\n",
       "      <td>0.0</td>\n",
       "      <td>0.0</td>\n",
       "      <td>0.0</td>\n",
       "      <td>55.0</td>\n",
       "      <td>100.0</td>\n",
       "      <td>18.0</td>\n",
       "      <td>36.000000</td>\n",
       "      <td>135.0</td>\n",
       "      <td>8.699219</td>\n",
       "      <td>0.799927</td>\n",
       "      <td>892.0</td>\n",
       "      <td>0</td>\n",
       "    </tr>\n",
       "    <tr>\n",
       "      <th>4</th>\n",
       "      <td>71.794983</td>\n",
       "      <td>0.0</td>\n",
       "      <td>1.0</td>\n",
       "      <td>1.0</td>\n",
       "      <td>0.0</td>\n",
       "      <td>0.0</td>\n",
       "      <td>0.0</td>\n",
       "      <td>65.0</td>\n",
       "      <td>135.0</td>\n",
       "      <td>40.0</td>\n",
       "      <td>38.593750</td>\n",
       "      <td>146.0</td>\n",
       "      <td>0.099991</td>\n",
       "      <td>0.399963</td>\n",
       "      <td>7.0</td>\n",
       "      <td>1</td>\n",
       "    </tr>\n",
       "    <tr>\n",
       "      <th>7</th>\n",
       "      <td>71.457947</td>\n",
       "      <td>1.0</td>\n",
       "      <td>4.0</td>\n",
       "      <td>1.0</td>\n",
       "      <td>0.0</td>\n",
       "      <td>0.0</td>\n",
       "      <td>2.0</td>\n",
       "      <td>68.0</td>\n",
       "      <td>102.0</td>\n",
       "      <td>24.0</td>\n",
       "      <td>35.500000</td>\n",
       "      <td>134.0</td>\n",
       "      <td>9.199219</td>\n",
       "      <td>1.399902</td>\n",
       "      <td>1530.0</td>\n",
       "      <td>0</td>\n",
       "    </tr>\n",
       "    <tr>\n",
       "      <th>9</th>\n",
       "      <td>67.462952</td>\n",
       "      <td>1.0</td>\n",
       "      <td>4.0</td>\n",
       "      <td>1.0</td>\n",
       "      <td>0.0</td>\n",
       "      <td>0.0</td>\n",
       "      <td>1.0</td>\n",
       "      <td>73.0</td>\n",
       "      <td>75.0</td>\n",
       "      <td>28.0</td>\n",
       "      <td>36.000000</td>\n",
       "      <td>140.0</td>\n",
       "      <td>15.798828</td>\n",
       "      <td>0.699951</td>\n",
       "      <td>70.0</td>\n",
       "      <td>1</td>\n",
       "    </tr>\n",
       "  </tbody>\n",
       "</table>\n",
       "</div>"
      ],
      "text/plain": [
       "          x0   x1   x2   x3   x4   x5   x6     x7     x8    x9        x10  \\\n",
       "0  82.709961  1.0  2.0  1.0  0.0  0.0  0.0  160.0   55.0  16.0  38.195309   \n",
       "3  53.075989  1.0  4.0  3.0  0.0  0.0  0.0   55.0  100.0  18.0  36.000000   \n",
       "4  71.794983  0.0  1.0  1.0  0.0  0.0  0.0   65.0  135.0  40.0  38.593750   \n",
       "7  71.457947  1.0  4.0  1.0  0.0  0.0  2.0   68.0  102.0  24.0  35.500000   \n",
       "9  67.462952  1.0  4.0  1.0  0.0  0.0  1.0   73.0   75.0  28.0  36.000000   \n",
       "\n",
       "     x11        x12       x13  duration  event  \n",
       "0  142.0  19.000000  1.099854      30.0      1  \n",
       "3  135.0   8.699219  0.799927     892.0      0  \n",
       "4  146.0   0.099991  0.399963       7.0      1  \n",
       "7  134.0   9.199219  1.399902    1530.0      0  \n",
       "9  140.0  15.798828  0.699951      70.0      1  "
      ]
     },
     "execution_count": 36,
     "metadata": {},
     "output_type": "execute_result"
    }
   ],
   "source": [
    "df_train.head()"
   ]
  },
  {
   "cell_type": "markdown",
   "metadata": {},
   "source": [
    "## Feature transforms\n",
    "\n",
    "The METABRIC dataset has  9 covariates: `x0, ..., x8`.\n",
    "We will standardize the 5 numerical covariates, and leave the binary covariates as is.\n",
    "Note that PyTorch require variables of type `'float32'`.\n",
    "\n",
    "We like using the `sklearn_pandas.DataFrameMapper` to make feature mappers."
   ]
  },
  {
   "cell_type": "code",
   "execution_count": 37,
   "metadata": {},
   "outputs": [],
   "source": [
    "# cols_standardize = ['x0', 'x1', 'x2', 'x3', 'x8']\n",
    "# cols_leave = ['x4', 'x5', 'x6', 'x7']\n",
    "\n",
    "# support\n",
    "cols_standardize = ['x0','x7', 'x8', 'x9', 'x10', 'x11', 'x12', 'x13']\n",
    "cols_leave = ['x1', 'x2', 'x3', 'x4', 'x5', 'x6']\n",
    "\n",
    "standardize = [([col], StandardScaler()) for col in cols_standardize]\n",
    "leave = [(col, None) for col in cols_leave]\n",
    "\n",
    "x_mapper = DataFrameMapper(standardize + leave)"
   ]
  },
  {
   "cell_type": "code",
   "execution_count": 38,
   "metadata": {},
   "outputs": [],
   "source": [
    "x_train = x_mapper.fit_transform(df_train).astype('float32')\n",
    "x_val = x_mapper.transform(df_val).astype('float32')\n",
    "x_test = x_mapper.transform(df_test).astype('float32')"
   ]
  },
  {
   "cell_type": "markdown",
   "metadata": {},
   "source": [
    "## Label transforms\n",
    "\n",
    "The survival methods require individual label transforms, so we have included a proposed `label_transform` for each method.\n",
    "In this case `label_transform` is just a shorthand for the class `pycox.preprocessing.label_transforms.LabTransDiscreteTime`.\n",
    "\n",
    "DeepHit is a discrete-time method, meaning it requires discretization of the event times to be applied to continuous-time data.\n",
    "We let `num_durations` define the size of this (equidistant) discretization grid, meaning our network will have `num_durations` output nodes."
   ]
  },
  {
   "cell_type": "code",
   "execution_count": 39,
   "metadata": {},
   "outputs": [],
   "source": [
    "num_durations = 10\n",
    "labtrans = DeepHitSingle.label_transform(num_durations)\n",
    "get_target = lambda df: (df['duration'].values, df['event'].values)\n",
    "y_train = labtrans.fit_transform(*get_target(df_train))\n",
    "y_val = labtrans.transform(*get_target(df_val))\n",
    "\n",
    "train = (x_train, y_train)\n",
    "val = (x_val, y_val)\n",
    "\n",
    "# We don't need to transform the test labels\n",
    "durations_test, events_test = get_target(df_test)"
   ]
  },
  {
   "cell_type": "code",
   "execution_count": 40,
   "metadata": {},
   "outputs": [
    {
     "data": {
      "text/plain": [
       "pycox.preprocessing.label_transforms.LabTransDiscreteTime"
      ]
     },
     "execution_count": 40,
     "metadata": {},
     "output_type": "execute_result"
    }
   ],
   "source": [
    "type(labtrans)"
   ]
  },
  {
   "cell_type": "markdown",
   "metadata": {},
   "source": [
    "## Neural net\n",
    "\n",
    "We make a neural net with `torch`.\n",
    "For simple network structures, we can use the `MLPVanilla` provided by `torchtuples`.\n",
    "For building more advanced network architectures, see for example [the tutorials by PyTroch](https://pytorch.org/tutorials/).\n",
    "\n",
    "The following net is an MLP with two hidden layers (with 32 nodes each), ReLU activations, and `num_nodes` output nodes.\n",
    "We also have batch normalization and dropout between the layers."
   ]
  },
  {
   "cell_type": "code",
   "execution_count": 41,
   "metadata": {},
   "outputs": [],
   "source": [
    "in_features = x_train.shape[1]\n",
    "num_nodes = [32, 32]\n",
    "out_features = labtrans.out_features\n",
    "batch_norm = True\n",
    "dropout = 0.1\n",
    "\n",
    "net = tt.practical.MLPVanilla(in_features, num_nodes, out_features, batch_norm, dropout)"
   ]
  },
  {
   "cell_type": "markdown",
   "metadata": {},
   "source": [
    "If you instead want to build this network with `torch` you can uncomment the following code.\n",
    "It is essentially equivalent to the `MLPVanilla`, but without the `torch.nn.init.kaiming_normal_` weight initialization."
   ]
  },
  {
   "cell_type": "code",
   "execution_count": 42,
   "metadata": {},
   "outputs": [],
   "source": [
    "# net = torch.nn.Sequential(\n",
    "#     torch.nn.Linear(in_features, 32),\n",
    "#     torch.nn.ReLU(),\n",
    "#     torch.nn.BatchNorm1d(32),\n",
    "#     torch.nn.Dropout(0.1),\n",
    "    \n",
    "#     torch.nn.Linear(32, 32),\n",
    "#     torch.nn.ReLU(),\n",
    "#     torch.nn.BatchNorm1d(32),\n",
    "#     torch.nn.Dropout(0.1),\n",
    "    \n",
    "#     torch.nn.Linear(32, out_features)\n",
    "# )"
   ]
  },
  {
   "cell_type": "markdown",
   "metadata": {},
   "source": [
    "## Training the model\n",
    "\n",
    "To train the model we need to define an optimizer. You can choose any `torch.optim` optimizer, but here we instead use one from `tt.optim` as it has some added functionality.\n",
    "We use the `Adam` optimizer, but instead of choosing a learning rate, we will use the scheme proposed by [Smith 2017](https://arxiv.org/pdf/1506.01186.pdf) to find a suitable learning rate with `model.lr_finder`. See [this post](https://towardsdatascience.com/finding-good-learning-rate-and-the-one-cycle-policy-7159fe1db5d6) for an explanation.\n",
    "\n",
    "We also set `duration_index` which connects the output nodes of the network the the discretization times. This is only useful for prediction and does not affect the training procedure."
   ]
  },
  {
   "cell_type": "markdown",
   "metadata": {},
   "source": [
    "DeepHit has a loss that is a combination of a negative log-likelihood and a ranking loss. `alpha` is a parameter that controls the linear combination between the two, and `sigma` is a parameter used by the ranking loss. `alpha = 1` give a loss only containing the negative log-likelihood and `alpha = 0` give a pure ranking loss. Note that this is different than the original paper."
   ]
  },
  {
   "cell_type": "code",
   "execution_count": 43,
   "metadata": {},
   "outputs": [],
   "source": [
    "model = DeepHitSingle(net, tt.optim.Adam, alpha=0.2, sigma=0.1, duration_index=labtrans.cuts)"
   ]
  },
  {
   "cell_type": "code",
   "execution_count": 44,
   "metadata": {},
   "outputs": [
    {
     "data": {
      "image/png": "[encoded data removed]",
      "text/plain": [
       "<Figure size 432x288 with 1 Axes>"
      ]
     },
     "metadata": {
      "needs_background": "light"
     },
     "output_type": "display_data"
    }
   ],
   "source": [
    "batch_size = 256\n",
    "lr_finder = model.lr_finder(x_train, y_train, batch_size, tolerance=3)\n",
    "_ = lr_finder.plot()"
   ]
  },
  {
   "cell_type": "code",
   "execution_count": 45,
   "metadata": {},
   "outputs": [
    {
     "data": {
      "text/plain": [
       "0.020092330025650584"
      ]
     },
     "execution_count": 45,
     "metadata": {},
     "output_type": "execute_result"
    }
   ],
   "source": [
    "lr_finder.get_best_lr()"
   ]
  },
  {
   "cell_type": "markdown",
   "metadata": {},
   "source": [
    "Often, this learning rate is a little high, so we instead set it manually to 0.01"
   ]
  },
  {
   "cell_type": "code",
   "execution_count": 46,
   "metadata": {},
   "outputs": [],
   "source": [
    "model.optimizer.set_lr(0.001)"
   ]
  },
  {
   "cell_type": "markdown",
   "metadata": {},
   "source": [
    "We include the `EarlyStopping` callback to stop training when the validation loss stops improving. After training, this callback will also load the best performing model in terms of validation loss."
   ]
  },
  {
   "cell_type": "code",
   "execution_count": 47,
   "metadata": {},
   "outputs": [
    {
     "name": "stdout",
     "output_type": "stream",
     "text": [
      "0:\t[0s / 0s],\t\ttrain_loss: 0.6294,\tval_loss: 0.5768\n",
      "1:\t[0s / 1s],\t\ttrain_loss: 0.5514,\tval_loss: 0.5367\n",
      "2:\t[0s / 1s],\t\ttrain_loss: 0.5231,\tval_loss: 0.5104\n",
      "3:\t[0s / 1s],\t\ttrain_loss: 0.4950,\tval_loss: 0.4916\n",
      "4:\t[0s / 1s],\t\ttrain_loss: 0.4847,\tval_loss: 0.4894\n",
      "5:\t[0s / 1s],\t\ttrain_loss: 0.4739,\tval_loss: 0.4829\n",
      "6:\t[0s / 1s],\t\ttrain_loss: 0.4675,\tval_loss: 0.4774\n",
      "7:\t[0s / 2s],\t\ttrain_loss: 0.4659,\tval_loss: 0.4723\n",
      "8:\t[0s / 2s],\t\ttrain_loss: 0.4619,\tval_loss: 0.4691\n",
      "9:\t[0s / 2s],\t\ttrain_loss: 0.4632,\tval_loss: 0.4751\n",
      "10:\t[0s / 2s],\t\ttrain_loss: 0.4618,\tval_loss: 0.4752\n",
      "11:\t[0s / 2s],\t\ttrain_loss: 0.4578,\tval_loss: 0.4727\n",
      "12:\t[0s / 2s],\t\ttrain_loss: 0.4575,\tval_loss: 0.4728\n",
      "13:\t[0s / 2s],\t\ttrain_loss: 0.4549,\tval_loss: 0.4718\n",
      "14:\t[0s / 2s],\t\ttrain_loss: 0.4536,\tval_loss: 0.4701\n",
      "15:\t[0s / 3s],\t\ttrain_loss: 0.4584,\tval_loss: 0.4781\n",
      "16:\t[0s / 3s],\t\ttrain_loss: 0.4550,\tval_loss: 0.4707\n",
      "17:\t[0s / 3s],\t\ttrain_loss: 0.4513,\tval_loss: 0.4715\n",
      "18:\t[0s / 4s],\t\ttrain_loss: 0.4522,\tval_loss: 0.4706\n"
     ]
    }
   ],
   "source": [
    "epochs = 100\n",
    "callbacks = [tt.callbacks.EarlyStopping()]\n",
    "log = model.fit(x_train, y_train, batch_size, epochs, callbacks, val_data=val)"
   ]
  },
  {
   "cell_type": "code",
   "execution_count": 49,
   "metadata": {},
   "outputs": [
    {
     "data": {
      "image/png": "[encoded data removed]",
      "text/plain": [
       "<Figure size 432x288 with 1 Axes>"
      ]
     },
     "metadata": {
      "needs_background": "light"
     },
     "output_type": "display_data"
    }
   ],
   "source": [
    "_ = log.plot()"
   ]
  },
  {
   "cell_type": "markdown",
   "metadata": {},
   "source": [
    "## Prediction\n",
    "\n",
    "For evaluation we first need to obtain survival estimates for the test set.\n",
    "This can be done with `model.predict_surv` which returns an array of survival estimates, or with `model.predict_surv_df` which returns the survival estimates as a dataframe."
   ]
  },
  {
   "cell_type": "code",
   "execution_count": 50,
   "metadata": {},
   "outputs": [],
   "source": [
    "surv = model.predict_surv_df(x_test)"
   ]
  },
  {
   "cell_type": "markdown",
   "metadata": {},
   "source": [
    "We can plot the survival estimates for the first 5 individuals.\n",
    "Note that the time scale is correct because we have set `model.duration_index` to be the grid points.\n",
    "We have, however, only defined the survival estimates at the 10 times in our discretization grid, so, the survival estimates is a step function"
   ]
  },
  {
   "cell_type": "code",
   "execution_count": 51,
   "metadata": {},
   "outputs": [
    {
     "data": {
      "image/png": "[encoded data removed]",
      "text/plain": [
       "<Figure size 432x288 with 1 Axes>"
      ]
     },
     "metadata": {
      "needs_background": "light"
     },
     "output_type": "display_data"
    }
   ],
   "source": [
    "surv.iloc[:, :5].plot(drawstyle='steps-post')\n",
    "plt.ylabel('S(t | x)')\n",
    "_ = plt.xlabel('Time')"
   ]
  },
  {
   "cell_type": "markdown",
   "metadata": {},
   "source": [
    "It is, therefore, often beneficial to interpolate the survival estimates, see [this paper](https://arxiv.org/abs/1910.06724) for a discussion.\n",
    "Linear interpolation (constant density interpolation) can be performed with the `interpolate` method. We also need to choose how many points we want to replace each grid point with. Her we will use 10."
   ]
  },
  {
   "cell_type": "code",
   "execution_count": 52,
   "metadata": {},
   "outputs": [],
   "source": [
    "surv = model.interpolate(10).predict_surv_df(x_test)"
   ]
  },
  {
   "cell_type": "code",
   "execution_count": 53,
   "metadata": {},
   "outputs": [
    {
     "data": {
      "image/png": "[encoded data removed]",
      "text/plain": [
       "<Figure size 432x288 with 1 Axes>"
      ]
     },
     "metadata": {
      "needs_background": "light"
     },
     "output_type": "display_data"
    }
   ],
   "source": [
    "surv.iloc[:, :5].plot(drawstyle='steps-post')\n",
    "plt.ylabel('S(t | x)')\n",
    "_ = plt.xlabel('Time')"
   ]
  },
  {
   "cell_type": "markdown",
   "metadata": {},
   "source": [
    "## Evaluation\n",
    "\n",
    "The `EvalSurv` class contains some useful evaluation criteria for time-to-event prediction.\n",
    "We set `censor_surv = 'km'` to state that we want to use Kaplan-Meier for estimating the censoring distribution.\n"
   ]
  },
  {
   "cell_type": "code",
   "execution_count": 54,
   "metadata": {},
   "outputs": [],
   "source": [
    "ev = EvalSurv(surv, durations_test, events_test, censor_surv='km')"
   ]
  },
  {
   "cell_type": "markdown",
   "metadata": {},
   "source": [
    "#### Concordance\n",
    "\n",
    "We start with the event-time concordance by [Antolini et al. 2005](https://onlinelibrary.wiley.com/doi/10.1002/sim.2427)."
   ]
  },
  {
   "cell_type": "code",
   "execution_count": 55,
   "metadata": {},
   "outputs": [
    {
     "data": {
      "text/plain": [
       "0.547840885976478"
      ]
     },
     "execution_count": 55,
     "metadata": {},
     "output_type": "execute_result"
    }
   ],
   "source": [
    "ev.concordance_td('antolini')"
   ]
  },
  {
   "cell_type": "markdown",
   "metadata": {},
   "source": [
    "#### Brier Score\n",
    "\n",
    "We can plot the the [IPCW Brier score](https://onlinelibrary.wiley.com/doi/abs/10.1002/%28SICI%291097-0258%2819990915/30%2918%3A17/18%3C2529%3A%3AAID-SIM274%3E3.0.CO%3B2-5) for a given set of times.\n",
    "Here we just use 100 time-points between the min and max duration in the test set.\n",
    "Note that the score becomes unstable for the highest times. It is therefore common to disregard the rightmost part of the graph."
   ]
  },
  {
   "cell_type": "code",
   "execution_count": 56,
   "metadata": {},
   "outputs": [
    {
     "data": {
      "image/png": "[encoded data removed]",
      "text/plain": [
       "<Figure size 432x288 with 1 Axes>"
      ]
     },
     "metadata": {
      "needs_background": "light"
     },
     "output_type": "display_data"
    }
   ],
   "source": [
    "time_grid = np.linspace(durations_test.min(), durations_test.max(), 100)\n",
    "ev.brier_score(time_grid).plot()\n",
    "plt.ylabel('Brier score')\n",
    "_ = plt.xlabel('Time')"
   ]
  },
  {
   "cell_type": "markdown",
   "metadata": {},
   "source": [
    "#### Negative binomial log-likelihood\n",
    "\n",
    "In a similar manner, we can plot the the [IPCW negative binomial log-likelihood](https://onlinelibrary.wiley.com/doi/abs/10.1002/%28SICI%291097-0258%2819990915/30%2918%3A17/18%3C2529%3A%3AAID-SIM274%3E3.0.CO%3B2-5)."
   ]
  },
  {
   "cell_type": "code",
   "execution_count": 57,
   "metadata": {},
   "outputs": [
    {
     "data": {
      "image/png": "[encoded data removed]",
      "text/plain": [
       "<Figure size 432x288 with 1 Axes>"
      ]
     },
     "metadata": {
      "needs_background": "light"
     },
     "output_type": "display_data"
    }
   ],
   "source": [
    "ev.nbll(time_grid).plot()\n",
    "plt.ylabel('NBLL')\n",
    "_ = plt.xlabel('Time')"
   ]
  },
  {
   "cell_type": "markdown",
   "metadata": {},
   "source": [
    "#### Integrated scores\n",
    "\n",
    "The two time-dependent scores above can be integrated over time to produce a single score [Graf et al. 1999](https://onlinelibrary.wiley.com/doi/abs/10.1002/%28SICI%291097-0258%2819990915/30%2918%3A17/18%3C2529%3A%3AAID-SIM274%3E3.0.CO%3B2-5). In practice this is done by numerical integration over a defined `time_grid`."
   ]
  },
  {
   "cell_type": "code",
   "execution_count": 58,
   "metadata": {},
   "outputs": [
    {
     "data": {
      "text/plain": [
       "0.2079509112227895"
      ]
     },
     "execution_count": 58,
     "metadata": {},
     "output_type": "execute_result"
    }
   ],
   "source": [
    "ev.integrated_brier_score(time_grid) "
   ]
  },
  {
   "cell_type": "code",
   "execution_count": 59,
   "metadata": {},
   "outputs": [
    {
     "data": {
      "text/plain": [
       "0.6077816716115062"
      ]
     },
     "execution_count": 59,
     "metadata": {},
     "output_type": "execute_result"
    }
   ],
   "source": [
    "ev.integrated_nbll(time_grid) "
   ]
  },
  {
   "cell_type": "code",
   "execution_count": 60,
   "metadata": {},
   "outputs": [
    {
     "name": "stdout",
     "output_type": "stream",
     "text": [
      "Requirement already satisfied: ray[tune] in c:\\users\\sebastian\\research\\survnode\\sandbox\\lib\\site-packages (1.1.0)"
     ]
    },
    {
     "name": "stderr",
     "output_type": "stream",
     "text": [
      "WARNING: You are using pip version 20.1.1; however, version 21.0 is available.\n",
      "You should consider upgrading via the 'c:\\users\\sebastian\\research\\survnode\\sandbox\\scripts\\python.exe -m pip install --upgrade pip' command.\n"
     ]
    },
    {
     "name": "stdout",
     "output_type": "stream",
     "text": [
      "\n",
      "Requirement already satisfied: colorama in c:\\users\\sebastian\\research\\survnode\\sandbox\\lib\\site-packages (from ray[tune]) (0.4.4)\n",
      "Requirement already satisfied: pyyaml in c:\\users\\sebastian\\research\\survnode\\sandbox\\lib\\site-packages (from ray[tune]) (5.4.1)\n",
      "Requirement already satisfied: grpcio>=1.28.1 in c:\\users\\sebastian\\research\\survnode\\sandbox\\lib\\site-packages (from ray[tune]) (1.35.0)\n",
      "Requirement already satisfied: gpustat in c:\\users\\sebastian\\research\\survnode\\sandbox\\lib\\site-packages (from ray[tune]) (0.6.0)\n",
      "Requirement already satisfied: numpy>=1.16 in c:\\users\\sebastian\\research\\survnode\\sandbox\\lib\\site-packages (from ray[tune]) (1.19.5)\n",
      "Requirement already satisfied: aioredis in c:\\users\\sebastian\\research\\survnode\\sandbox\\lib\\site-packages (from ray[tune]) (1.3.1)\n",
      "Requirement already satisfied: filelock in c:\\users\\sebastian\\research\\survnode\\sandbox\\lib\\site-packages (from ray[tune]) (3.0.12)\n",
      "Requirement already satisfied: py-spy>=0.2.0 in c:\\users\\sebastian\\research\\survnode\\sandbox\\lib\\site-packages (from ray[tune]) (0.3.4)\n",
      "Requirement already satisfied: aiohttp-cors in c:\\users\\sebastian\\research\\survnode\\sandbox\\lib\\site-packages (from ray[tune]) (0.7.0)\n",
      "Requirement already satisfied: jsonschema in c:\\users\\sebastian\\research\\survnode\\sandbox\\lib\\site-packages (from ray[tune]) (3.2.0)\n",
      "Requirement already satisfied: opencensus in c:\\users\\sebastian\\research\\survnode\\sandbox\\lib\\site-packages (from ray[tune]) (0.7.12)\n",
      "Requirement already satisfied: click>=7.0 in c:\\users\\sebastian\\research\\survnode\\sandbox\\lib\\site-packages (from ray[tune]) (7.1.2)\n",
      "Requirement already satisfied: redis>=3.5.0 in c:\\users\\sebastian\\research\\survnode\\sandbox\\lib\\site-packages (from ray[tune]) (3.5.3)\n",
      "Requirement already satisfied: aiohttp in c:\\users\\sebastian\\research\\survnode\\sandbox\\lib\\site-packages (from ray[tune]) (3.7.3)\n",
      "Requirement already satisfied: protobuf>=3.8.0 in c:\\users\\sebastian\\research\\survnode\\sandbox\\lib\\site-packages (from ray[tune]) (3.14.0)\n",
      "Requirement already satisfied: msgpack<2.0.0,>=1.0.0 in c:\\users\\sebastian\\research\\survnode\\sandbox\\lib\\site-packages (from ray[tune]) (1.0.2)\n",
      "Requirement already satisfied: prometheus-client>=0.7.1 in c:\\users\\sebastian\\research\\survnode\\sandbox\\lib\\site-packages (from ray[tune]) (0.9.0)\n",
      "Requirement already satisfied: colorful in c:\\users\\sebastian\\research\\survnode\\sandbox\\lib\\site-packages (from ray[tune]) (0.5.4)\n",
      "Requirement already satisfied: requests in c:\\users\\sebastian\\research\\survnode\\sandbox\\lib\\site-packages (from ray[tune]) (2.25.1)\n",
      "Requirement already satisfied: tensorboardX; extra == \"tune\" in c:\\users\\sebastian\\research\\survnode\\sandbox\\lib\\site-packages (from ray[tune]) (2.1)\n",
      "Requirement already satisfied: tabulate; extra == \"tune\" in c:\\users\\sebastian\\research\\survnode\\sandbox\\lib\\site-packages (from ray[tune]) (0.8.7)\n",
      "Requirement already satisfied: pandas; extra == \"tune\" in c:\\users\\sebastian\\research\\survnode\\sandbox\\lib\\site-packages (from ray[tune]) (1.2.0)\n",
      "Requirement already satisfied: six>=1.5.2 in c:\\users\\sebastian\\research\\survnode\\sandbox\\lib\\site-packages (from grpcio>=1.28.1->ray[tune]) (1.15.0)\n",
      "Requirement already satisfied: nvidia-ml-py3>=7.352.0 in c:\\users\\sebastian\\research\\survnode\\sandbox\\lib\\site-packages (from gpustat->ray[tune]) (7.352.0)\n",
      "Requirement already satisfied: psutil in c:\\users\\sebastian\\research\\survnode\\sandbox\\lib\\site-packages (from gpustat->ray[tune]) (5.8.0)\n",
      "Requirement already satisfied: blessings>=1.6 in c:\\users\\sebastian\\research\\survnode\\sandbox\\lib\\site-packages (from gpustat->ray[tune]) (1.7)\n",
      "Requirement already satisfied: hiredis in c:\\users\\sebastian\\research\\survnode\\sandbox\\lib\\site-packages (from aioredis->ray[tune]) (1.1.0)\n",
      "Requirement already satisfied: async-timeout in c:\\users\\sebastian\\research\\survnode\\sandbox\\lib\\site-packages (from aioredis->ray[tune]) (3.0.1)\n",
      "Requirement already satisfied: importlib-metadata; python_version < \"3.8\" in c:\\users\\sebastian\\research\\survnode\\sandbox\\lib\\site-packages (from jsonschema->ray[tune]) (3.3.0)\n",
      "Requirement already satisfied: setuptools in c:\\users\\sebastian\\research\\survnode\\sandbox\\lib\\site-packages (from jsonschema->ray[tune]) (47.1.0)\n",
      "Requirement already satisfied: pyrsistent>=0.14.0 in c:\\users\\sebastian\\research\\survnode\\sandbox\\lib\\site-packages (from jsonschema->ray[tune]) (0.17.3)\n",
      "Requirement already satisfied: attrs>=17.4.0 in c:\\users\\sebastian\\research\\survnode\\sandbox\\lib\\site-packages (from jsonschema->ray[tune]) (20.3.0)\n",
      "Requirement already satisfied: google-api-core<2.0.0,>=1.0.0 in c:\\users\\sebastian\\research\\survnode\\sandbox\\lib\\site-packages (from opencensus->ray[tune]) (1.25.1)\n",
      "Requirement already satisfied: opencensus-context==0.1.2 in c:\\users\\sebastian\\research\\survnode\\sandbox\\lib\\site-packages (from opencensus->ray[tune]) (0.1.2)\n",
      "Requirement already satisfied: chardet<4.0,>=2.0 in c:\\users\\sebastian\\research\\survnode\\sandbox\\lib\\site-packages (from aiohttp->ray[tune]) (3.0.4)\n",
      "Requirement already satisfied: multidict<7.0,>=4.5 in c:\\users\\sebastian\\research\\survnode\\sandbox\\lib\\site-packages (from aiohttp->ray[tune]) (5.1.0)\n",
      "Requirement already satisfied: typing-extensions>=3.6.5 in c:\\users\\sebastian\\research\\survnode\\sandbox\\lib\\site-packages (from aiohttp->ray[tune]) (3.7.4.3)\n",
      "Requirement already satisfied: yarl<2.0,>=1.0 in c:\\users\\sebastian\\research\\survnode\\sandbox\\lib\\site-packages (from aiohttp->ray[tune]) (1.6.3)\n",
      "Requirement already satisfied: certifi>=2017.4.17 in c:\\users\\sebastian\\research\\survnode\\sandbox\\lib\\site-packages (from requests->ray[tune]) (2020.12.5)\n",
      "Requirement already satisfied: urllib3<1.27,>=1.21.1 in c:\\users\\sebastian\\research\\survnode\\sandbox\\lib\\site-packages (from requests->ray[tune]) (1.26.2)\n",
      "Requirement already satisfied: idna<3,>=2.5 in c:\\users\\sebastian\\research\\survnode\\sandbox\\lib\\site-packages (from requests->ray[tune]) (2.10)\n",
      "Requirement already satisfied: python-dateutil>=2.7.3 in c:\\users\\sebastian\\research\\survnode\\sandbox\\lib\\site-packages (from pandas; extra == \"tune\"->ray[tune]) (2.8.1)\n",
      "Requirement already satisfied: pytz>=2017.3 in c:\\users\\sebastian\\research\\survnode\\sandbox\\lib\\site-packages (from pandas; extra == \"tune\"->ray[tune]) (2020.5)\n",
      "Requirement already satisfied: zipp>=0.5 in c:\\users\\sebastian\\research\\survnode\\sandbox\\lib\\site-packages (from importlib-metadata; python_version < \"3.8\"->jsonschema->ray[tune]) (3.4.0)\n",
      "Requirement already satisfied: google-auth<2.0dev,>=1.21.1 in c:\\users\\sebastian\\research\\survnode\\sandbox\\lib\\site-packages (from google-api-core<2.0.0,>=1.0.0->opencensus->ray[tune]) (1.24.0)\n",
      "Requirement already satisfied: googleapis-common-protos<2.0dev,>=1.6.0 in c:\\users\\sebastian\\research\\survnode\\sandbox\\lib\\site-packages (from google-api-core<2.0.0,>=1.0.0->opencensus->ray[tune]) (1.52.0)\n",
      "Requirement already satisfied: pyasn1-modules>=0.2.1 in c:\\users\\sebastian\\research\\survnode\\sandbox\\lib\\site-packages (from google-auth<2.0dev,>=1.21.1->google-api-core<2.0.0,>=1.0.0->opencensus->ray[tune]) (0.2.8)\n",
      "Requirement already satisfied: rsa<5,>=3.1.4; python_version >= \"3.6\" in c:\\users\\sebastian\\research\\survnode\\sandbox\\lib\\site-packages (from google-auth<2.0dev,>=1.21.1->google-api-core<2.0.0,>=1.0.0->opencensus->ray[tune]) (4.7)\n",
      "Requirement already satisfied: cachetools<5.0,>=2.0.0 in c:\\users\\sebastian\\research\\survnode\\sandbox\\lib\\site-packages (from google-auth<2.0dev,>=1.21.1->google-api-core<2.0.0,>=1.0.0->opencensus->ray[tune]) (4.2.1)\n",
      "Requirement already satisfied: pyasn1<0.5.0,>=0.4.6 in c:\\users\\sebastian\\research\\survnode\\sandbox\\lib\\site-packages (from pyasn1-modules>=0.2.1->google-auth<2.0dev,>=1.21.1->google-api-core<2.0.0,>=1.0.0->opencensus->ray[tune]) (0.4.8)\n"
     ]
    }
   ],
   "source": [
    "!pip install ray[tune]"
   ]
  },
  {
   "cell_type": "code",
   "execution_count": null,
   "metadata": {},
   "outputs": [],
   "source": []
  }
 ],
 "metadata": {
  "kernelspec": {
   "display_name": "Python 3",
   "language": "python",
   "name": "python3"
  },
  "language_info": {
   "codemirror_mode": {
    "name": "ipython",
    "version": 3
   },
   "file_extension": ".py",
   "mimetype": "text/x-python",
   "name": "python",
   "nbconvert_exporter": "python",
   "pygments_lexer": "ipython3",
   "version": "3.7.9"
  }
 },
 "nbformat": 4,
 "nbformat_minor": 4
}
